{
 "cells": [
  {
   "cell_type": "markdown",
   "id": "eaac1eb8",
   "metadata": {},
   "source": [
    "Numpy_ ---> data Analysis "
   ]
  },
  {
   "cell_type": "code",
   "execution_count": null,
   "id": "150b0133",
   "metadata": {},
   "outputs": [],
   "source": []
  },
  {
   "cell_type": "code",
   "execution_count": null,
   "id": "5a7e81ad",
   "metadata": {},
   "outputs": [],
   "source": []
  },
  {
   "cell_type": "code",
   "execution_count": 1,
   "id": "9b6eafcc",
   "metadata": {},
   "outputs": [],
   "source": [
    "import numpy as np "
   ]
  },
  {
   "cell_type": "code",
   "execution_count": 2,
   "id": "370bab97",
   "metadata": {},
   "outputs": [
    {
     "data": {
      "text/plain": [
       "array([1, 2, 3, 4, 5, 6, 7])"
      ]
     },
     "execution_count": 2,
     "metadata": {},
     "output_type": "execute_result"
    }
   ],
   "source": [
    "#array \n",
    "arr = np.array([1,2,3,4,5,6,7])\n",
    "arr"
   ]
  },
  {
   "cell_type": "code",
   "execution_count": 4,
   "id": "dba70ca0",
   "metadata": {},
   "outputs": [
    {
     "data": {
      "text/plain": [
       "array([[0., 0., 0., 0., 0.],\n",
       "       [0., 0., 0., 0., 0.],\n",
       "       [0., 0., 0., 0., 0.]])"
      ]
     },
     "execution_count": 4,
     "metadata": {},
     "output_type": "execute_result"
    }
   ],
   "source": [
    "# built in method : genarated data\n",
    "z_arr = np.zeros((3,5))\n",
    "z_arr"
   ]
  },
  {
   "cell_type": "code",
   "execution_count": 5,
   "id": "8ff3d2c7",
   "metadata": {},
   "outputs": [
    {
     "data": {
      "text/plain": [
       "array([[1., 1.],\n",
       "       [1., 1.]])"
      ]
     },
     "execution_count": 5,
     "metadata": {},
     "output_type": "execute_result"
    }
   ],
   "source": [
    "o_array = np.ones((2,2))\n",
    "o_array"
   ]
  },
  {
   "cell_type": "code",
   "execution_count": 6,
   "id": "94ec84e8",
   "metadata": {},
   "outputs": [
    {
     "data": {
      "text/plain": [
       "array([0, 2, 4, 6, 8])"
      ]
     },
     "execution_count": 6,
     "metadata": {},
     "output_type": "execute_result"
    }
   ],
   "source": [
    "n_array = np.arange(0,10,2)\n",
    "n_array"
   ]
  },
  {
   "cell_type": "code",
   "execution_count": 7,
   "id": "979327e9",
   "metadata": {},
   "outputs": [
    {
     "data": {
      "text/plain": [
       "array([[3, 3, 3, 3, 3],\n",
       "       [3, 3, 3, 3, 3]])"
      ]
     },
     "execution_count": 7,
     "metadata": {},
     "output_type": "execute_result"
    }
   ],
   "source": [
    "f_array = np.full((2,5),3)\n",
    "f_array"
   ]
  },
  {
   "cell_type": "code",
   "execution_count": 9,
   "id": "aa55f40c",
   "metadata": {},
   "outputs": [
    {
     "data": {
      "text/plain": [
       "array([0.  , 0.75, 1.5 , 2.25, 3.  ])"
      ]
     },
     "execution_count": 9,
     "metadata": {},
     "output_type": "execute_result"
    }
   ],
   "source": [
    "l_array = np.linspace(0,3,5)\n",
    "l_array"
   ]
  },
  {
   "cell_type": "code",
   "execution_count": 10,
   "id": "7b020fe4",
   "metadata": {},
   "outputs": [
    {
     "data": {
      "text/plain": [
       "array([0.26044847, 0.59762454, 0.02897366, 0.01058975, 0.62487955])"
      ]
     },
     "execution_count": 10,
     "metadata": {},
     "output_type": "execute_result"
    }
   ],
   "source": [
    "#random \n",
    "arra2 = np.random.rand(5)\n",
    "arra2"
   ]
  },
  {
   "cell_type": "code",
   "execution_count": 11,
   "id": "6c950810",
   "metadata": {},
   "outputs": [
    {
     "data": {
      "text/plain": [
       "array([[0.08539805, 0.06670939, 0.84459429, 0.36707792, 0.53995443,\n",
       "        0.41677176],\n",
       "       [0.49051623, 0.67137035, 0.31234461, 0.19279483, 0.3000666 ,\n",
       "        0.73589728],\n",
       "       [0.15237579, 0.6909716 , 0.60414969, 0.72128963, 0.93232266,\n",
       "        0.4982541 ],\n",
       "       [0.30114747, 0.49980992, 0.94971984, 0.93042446, 0.61663089,\n",
       "        0.91656008],\n",
       "       [0.95347252, 0.48853479, 0.80148476, 0.1758617 , 0.13611801,\n",
       "        0.41137364]])"
      ]
     },
     "execution_count": 11,
     "metadata": {},
     "output_type": "execute_result"
    }
   ],
   "source": [
    "arra3 = np.random.rand(5,6)\n",
    "arra3"
   ]
  },
  {
   "cell_type": "code",
   "execution_count": 12,
   "id": "d73ccc24",
   "metadata": {},
   "outputs": [
    {
     "data": {
      "text/plain": [
       "6"
      ]
     },
     "execution_count": 12,
     "metadata": {},
     "output_type": "execute_result"
    }
   ],
   "source": [
    "arra2 = np.random.randint(1,12)\n",
    "arra2"
   ]
  },
  {
   "cell_type": "code",
   "execution_count": 13,
   "id": "b18ad383",
   "metadata": {},
   "outputs": [
    {
     "data": {
      "text/plain": [
       "array([ 6,  3,  3, 10,  3])"
      ]
     },
     "execution_count": 13,
     "metadata": {},
     "output_type": "execute_result"
    }
   ],
   "source": [
    "arra2 = np.random.randint(1,12,5)\n",
    "arra2"
   ]
  },
  {
   "cell_type": "code",
   "execution_count": null,
   "id": "561710ea",
   "metadata": {},
   "outputs": [],
   "source": []
  },
  {
   "cell_type": "code",
   "execution_count": 14,
   "id": "ad5f0525",
   "metadata": {},
   "outputs": [
    {
     "data": {
      "text/plain": [
       "array([[1., 0., 0., 0.],\n",
       "       [0., 1., 0., 0.],\n",
       "       [0., 0., 1., 0.],\n",
       "       [0., 0., 0., 1.]])"
      ]
     },
     "execution_count": 14,
     "metadata": {},
     "output_type": "execute_result"
    }
   ],
   "source": [
    "#identify matrix \n",
    "np.eye(4)"
   ]
  },
  {
   "cell_type": "code",
   "execution_count": 15,
   "id": "ccad8dc9",
   "metadata": {},
   "outputs": [
    {
     "data": {
      "text/plain": [
       "array([1, 2, 3, 4, 5, 6, 7])"
      ]
     },
     "execution_count": 15,
     "metadata": {},
     "output_type": "execute_result"
    }
   ],
   "source": [
    "arr"
   ]
  },
  {
   "cell_type": "code",
   "execution_count": 16,
   "id": "02c67f19",
   "metadata": {},
   "outputs": [
    {
     "data": {
      "text/plain": [
       "(7,)"
      ]
     },
     "execution_count": 16,
     "metadata": {},
     "output_type": "execute_result"
    }
   ],
   "source": [
    "arr.shape"
   ]
  },
  {
   "cell_type": "code",
   "execution_count": 17,
   "id": "0800f0e4",
   "metadata": {},
   "outputs": [
    {
     "data": {
      "text/plain": [
       "7"
      ]
     },
     "execution_count": 17,
     "metadata": {},
     "output_type": "execute_result"
    }
   ],
   "source": [
    "arr.size"
   ]
  },
  {
   "cell_type": "code",
   "execution_count": 18,
   "id": "670e482a",
   "metadata": {},
   "outputs": [
    {
     "data": {
      "text/plain": [
       "dtype('int64')"
      ]
     },
     "execution_count": 18,
     "metadata": {},
     "output_type": "execute_result"
    }
   ],
   "source": [
    "arr.dtype"
   ]
  },
  {
   "cell_type": "markdown",
   "id": "34a44f99",
   "metadata": {},
   "source": [
    "-----"
   ]
  },
  {
   "cell_type": "code",
   "execution_count": 19,
   "id": "3ed687b7",
   "metadata": {},
   "outputs": [
    {
     "data": {
      "text/plain": [
       "array([ 0,  1,  2,  3,  4,  5,  6,  7,  8,  9, 10, 11, 12, 13, 14, 15, 16,\n",
       "       17, 18, 19, 20, 21, 22, 23, 24])"
      ]
     },
     "execution_count": 19,
     "metadata": {},
     "output_type": "execute_result"
    }
   ],
   "source": [
    "arr1 = np.arange(25)\n",
    "arr1"
   ]
  },
  {
   "cell_type": "code",
   "execution_count": 20,
   "id": "b6661dee",
   "metadata": {},
   "outputs": [
    {
     "data": {
      "text/plain": [
       "array([[ 0,  1,  2,  3,  4],\n",
       "       [ 5,  6,  7,  8,  9],\n",
       "       [10, 11, 12, 13, 14],\n",
       "       [15, 16, 17, 18, 19],\n",
       "       [20, 21, 22, 23, 24]])"
      ]
     },
     "execution_count": 20,
     "metadata": {},
     "output_type": "execute_result"
    }
   ],
   "source": [
    "arr1.reshape(5,5) # take into account the size of matrix "
   ]
  },
  {
   "cell_type": "code",
   "execution_count": null,
   "id": "a62ae417",
   "metadata": {},
   "outputs": [],
   "source": []
  },
  {
   "cell_type": "code",
   "execution_count": 24,
   "id": "a63f6299",
   "metadata": {},
   "outputs": [],
   "source": [
    "arr3=np.array([1,7,8,9,5])"
   ]
  },
  {
   "cell_type": "code",
   "execution_count": 25,
   "id": "def0e5f8",
   "metadata": {},
   "outputs": [
    {
     "data": {
      "text/plain": [
       "array([1, 7, 8, 9, 5])"
      ]
     },
     "execution_count": 25,
     "metadata": {},
     "output_type": "execute_result"
    }
   ],
   "source": [
    "arr3"
   ]
  },
  {
   "cell_type": "code",
   "execution_count": 26,
   "id": "f8b00a01",
   "metadata": {},
   "outputs": [
    {
     "data": {
      "text/plain": [
       "1"
      ]
     },
     "execution_count": 26,
     "metadata": {},
     "output_type": "execute_result"
    }
   ],
   "source": [
    "arr3.min()"
   ]
  },
  {
   "cell_type": "code",
   "execution_count": 27,
   "id": "435eb598",
   "metadata": {},
   "outputs": [
    {
     "data": {
      "text/plain": [
       "9"
      ]
     },
     "execution_count": 27,
     "metadata": {},
     "output_type": "execute_result"
    }
   ],
   "source": [
    "arr3.max()"
   ]
  },
  {
   "cell_type": "code",
   "execution_count": 28,
   "id": "38b6c88b",
   "metadata": {},
   "outputs": [
    {
     "data": {
      "text/plain": [
       "0"
      ]
     },
     "execution_count": 28,
     "metadata": {},
     "output_type": "execute_result"
    }
   ],
   "source": [
    "arr3.argmin() # index"
   ]
  },
  {
   "cell_type": "code",
   "execution_count": 29,
   "id": "dadc92a1",
   "metadata": {},
   "outputs": [
    {
     "data": {
      "text/plain": [
       "3"
      ]
     },
     "execution_count": 29,
     "metadata": {},
     "output_type": "execute_result"
    }
   ],
   "source": [
    "arr3.argmax()"
   ]
  },
  {
   "cell_type": "markdown",
   "id": "5141b946",
   "metadata": {},
   "source": [
    "-----------"
   ]
  },
  {
   "cell_type": "markdown",
   "id": "960049de",
   "metadata": {},
   "source": [
    "Array = 1D -------> vector \n"
   ]
  },
  {
   "cell_type": "markdown",
   "id": "e3b2b323",
   "metadata": {},
   "source": [
    "Array = 2D -------> matrix \n"
   ]
  },
  {
   "cell_type": "markdown",
   "id": "bb810313",
   "metadata": {},
   "source": [
    "Array = 3D -------> tensor \n"
   ]
  },
  {
   "cell_type": "markdown",
   "id": "cd169ae5",
   "metadata": {},
   "source": [
    "axis -----> row = 0 , column = 1"
   ]
  },
  {
   "cell_type": "code",
   "execution_count": 31,
   "id": "8a5c2071",
   "metadata": {},
   "outputs": [
    {
     "data": {
      "text/plain": [
       "array([ 1., 34.,  5.,  6.,  7.,  8.,  8.], dtype=float32)"
      ]
     },
     "execution_count": 31,
     "metadata": {},
     "output_type": "execute_result"
    }
   ],
   "source": [
    "# data type \n",
    "\n",
    "arry4 = np.array([1,34,5,6,7,8,8],dtype=np.float32)\n",
    "arry4"
   ]
  },
  {
   "cell_type": "code",
   "execution_count": 32,
   "id": "c4be6380",
   "metadata": {},
   "outputs": [
    {
     "data": {
      "text/plain": [
       "array([ 1, 50])"
      ]
     },
     "execution_count": 32,
     "metadata": {},
     "output_type": "execute_result"
    }
   ],
   "source": [
    "arry5 = np.array([True,50]) # convert into int\n",
    "arry5"
   ]
  },
  {
   "cell_type": "code",
   "execution_count": 33,
   "id": "edbc6714",
   "metadata": {},
   "outputs": [
    {
     "data": {
      "text/plain": [
       "dtype('int64')"
      ]
     },
     "execution_count": 33,
     "metadata": {},
     "output_type": "execute_result"
    }
   ],
   "source": [
    "arry5.dtype"
   ]
  },
  {
   "cell_type": "code",
   "execution_count": 34,
   "id": "53c00c6d",
   "metadata": {},
   "outputs": [
    {
     "data": {
      "text/plain": [
       "array([ 1. , 50. ,  2.5])"
      ]
     },
     "execution_count": 34,
     "metadata": {},
     "output_type": "execute_result"
    }
   ],
   "source": [
    "arry55 = np.array([True,50,2.5])\n",
    "arry55"
   ]
  },
  {
   "cell_type": "code",
   "execution_count": 35,
   "id": "e0db556a",
   "metadata": {},
   "outputs": [
    {
     "data": {
      "text/plain": [
       "dtype('float64')"
      ]
     },
     "execution_count": 35,
     "metadata": {},
     "output_type": "execute_result"
    }
   ],
   "source": [
    "arry55.dtype"
   ]
  },
  {
   "cell_type": "markdown",
   "id": "f83e0b87",
   "metadata": {},
   "source": [
    "------"
   ]
  },
  {
   "cell_type": "code",
   "execution_count": 44,
   "id": "e9f13f20",
   "metadata": {},
   "outputs": [
    {
     "data": {
      "text/plain": [
       "34"
      ]
     },
     "execution_count": 44,
     "metadata": {},
     "output_type": "execute_result"
    }
   ],
   "source": [
    "arry8 = np.array([1,34,5,6,7,8,3,4,5])\n",
    "arry8[1]"
   ]
  },
  {
   "cell_type": "code",
   "execution_count": 45,
   "id": "201b16bc",
   "metadata": {},
   "outputs": [
    {
     "data": {
      "text/plain": [
       "array([[ 1, 34,  5],\n",
       "       [ 6,  7,  8],\n",
       "       [ 3,  4,  5]])"
      ]
     },
     "execution_count": 45,
     "metadata": {},
     "output_type": "execute_result"
    }
   ],
   "source": [
    "arry88 = arry8.reshape(3,3)\n",
    "arry88"
   ]
  },
  {
   "cell_type": "code",
   "execution_count": 46,
   "id": "576a8887",
   "metadata": {},
   "outputs": [
    {
     "data": {
      "text/plain": [
       "(3, 3)"
      ]
     },
     "execution_count": 46,
     "metadata": {},
     "output_type": "execute_result"
    }
   ],
   "source": [
    "arry88.shape"
   ]
  },
  {
   "cell_type": "code",
   "execution_count": 47,
   "id": "07815db7",
   "metadata": {},
   "outputs": [
    {
     "data": {
      "text/plain": [
       "array([ 1, 34,  5])"
      ]
     },
     "execution_count": 47,
     "metadata": {},
     "output_type": "execute_result"
    }
   ],
   "source": [
    "arry88[0] # row"
   ]
  },
  {
   "cell_type": "code",
   "execution_count": 48,
   "id": "de56eeda",
   "metadata": {},
   "outputs": [
    {
     "data": {
      "text/plain": [
       "1"
      ]
     },
     "execution_count": 48,
     "metadata": {},
     "output_type": "execute_result"
    }
   ],
   "source": [
    "arry88[0][0] #row and colum"
   ]
  },
  {
   "cell_type": "code",
   "execution_count": 49,
   "id": "f23083b3",
   "metadata": {},
   "outputs": [
    {
     "data": {
      "text/plain": [
       "array([1, 6, 3])"
      ]
     },
     "execution_count": 49,
     "metadata": {},
     "output_type": "execute_result"
    }
   ],
   "source": [
    "arry88[:,0]"
   ]
  },
  {
   "cell_type": "code",
   "execution_count": 51,
   "id": "f1c4b389",
   "metadata": {},
   "outputs": [
    {
     "data": {
      "text/plain": [
       "array([[6, 7, 8],\n",
       "       [3, 4, 5]])"
      ]
     },
     "execution_count": 51,
     "metadata": {},
     "output_type": "execute_result"
    }
   ],
   "source": [
    "arry88[1:3]"
   ]
  },
  {
   "cell_type": "code",
   "execution_count": 52,
   "id": "67c6da1a",
   "metadata": {},
   "outputs": [
    {
     "data": {
      "text/plain": [
       "array([[6, 7, 8],\n",
       "       [3, 4, 5]])"
      ]
     },
     "execution_count": 52,
     "metadata": {},
     "output_type": "execute_result"
    }
   ],
   "source": [
    "arry88[1:3,0:3]"
   ]
  },
  {
   "cell_type": "markdown",
   "id": "61afa1bf",
   "metadata": {},
   "source": [
    "-----"
   ]
  },
  {
   "cell_type": "code",
   "execution_count": 53,
   "id": "945737de",
   "metadata": {},
   "outputs": [
    {
     "data": {
      "text/plain": [
       "array([[ 1,  2,  3,  4,  5,  6,  7,  8,  9, 10, 11, 12, 13, 14, 15, 16,\n",
       "        17, 18, 19, 20, 21, 22, 23, 24, 25, 26, 27, 28, 29, 30, 31, 32,\n",
       "        33],\n",
       "       [34, 35, 36, 37, 38, 39, 40, 41, 42, 43, 44, 45, 46, 47, 48, 49,\n",
       "        50, 51, 52, 53, 54, 55, 56, 57, 58, 59, 60, 61, 62, 63, 64, 65,\n",
       "        66],\n",
       "       [67, 68, 69, 70, 71, 72, 73, 74, 75, 76, 77, 78, 79, 80, 81, 82,\n",
       "        83, 84, 85, 86, 87, 88, 89, 90, 91, 92, 93, 94, 95, 96, 97, 98,\n",
       "        99]])"
      ]
     },
     "execution_count": 53,
     "metadata": {},
     "output_type": "execute_result"
    }
   ],
   "source": [
    "arr = np.arange(1,100)\n",
    "aee2 = arr.reshape(3,33)\n",
    "aee2"
   ]
  },
  {
   "cell_type": "code",
   "execution_count": 54,
   "id": "394a1eec",
   "metadata": {},
   "outputs": [
    {
     "data": {
      "text/plain": [
       "array([[ 2,  4,  6,  8, 10, 12],\n",
       "       [35, 37, 39, 41, 43, 45],\n",
       "       [68, 70, 72, 74, 76, 78]])"
      ]
     },
     "execution_count": 54,
     "metadata": {},
     "output_type": "execute_result"
    }
   ],
   "source": [
    "aee2[:,1:12:2]"
   ]
  },
  {
   "cell_type": "markdown",
   "id": "86e3db20",
   "metadata": {},
   "source": [
    "--------"
   ]
  },
  {
   "cell_type": "code",
   "execution_count": null,
   "id": "a96a993e",
   "metadata": {},
   "outputs": [],
   "source": []
  },
  {
   "cell_type": "code",
   "execution_count": 56,
   "id": "ed3901c2",
   "metadata": {},
   "outputs": [
    {
     "name": "stdout",
     "output_type": "stream",
     "text": [
      "[ 0  1  2  3  4  5  6  7  8  9 10 11 12 13 14 15 16 17 18 19 20 21 22 23\n",
      " 24]\n",
      "[0 1 2 3 4 5 6 7 8 9]\n"
     ]
    }
   ],
   "source": [
    "# broadcast \n",
    "arr = np.arange(25)\n",
    "sliced_Arr = arr[0:10] # view\n",
    "print(arr)\n",
    "print(sliced_Arr)"
   ]
  },
  {
   "cell_type": "code",
   "execution_count": 57,
   "id": "40dc439a",
   "metadata": {},
   "outputs": [],
   "source": [
    "sliced_Arr[:] = 100"
   ]
  },
  {
   "cell_type": "code",
   "execution_count": 58,
   "id": "1c9523d1",
   "metadata": {},
   "outputs": [
    {
     "name": "stdout",
     "output_type": "stream",
     "text": [
      "[100 100 100 100 100 100 100 100 100 100]\n"
     ]
    }
   ],
   "source": [
    "print(sliced_Arr)"
   ]
  },
  {
   "cell_type": "code",
   "execution_count": 59,
   "id": "5aee61cf",
   "metadata": {},
   "outputs": [
    {
     "name": "stdout",
     "output_type": "stream",
     "text": [
      "[100 100 100 100 100 100 100 100 100 100  10  11  12  13  14  15  16  17\n",
      "  18  19  20  21  22  23  24]\n"
     ]
    }
   ],
   "source": [
    "print(arr)"
   ]
  },
  {
   "cell_type": "code",
   "execution_count": null,
   "id": "b31b7cf8",
   "metadata": {},
   "outputs": [],
   "source": [
    "#cope of the array"
   ]
  },
  {
   "cell_type": "code",
   "execution_count": 60,
   "id": "79ea437b",
   "metadata": {},
   "outputs": [
    {
     "name": "stdout",
     "output_type": "stream",
     "text": [
      "[ 0  1  2  3  4  5  6  7  8  9 10 11 12 13 14 15 16 17 18 19 20 21 22 23\n",
      " 24]\n",
      "[0 1 2 3 4 5 6 7 8 9]\n"
     ]
    }
   ],
   "source": [
    "arr = np.arange(25)\n",
    "sliced_Arr = arr[0:10].copy()\n",
    "print(arr)\n",
    "print(sliced_Arr)"
   ]
  },
  {
   "cell_type": "code",
   "execution_count": null,
   "id": "fce8f4de",
   "metadata": {},
   "outputs": [],
   "source": []
  },
  {
   "cell_type": "markdown",
   "id": "ada42bba",
   "metadata": {},
   "source": [
    "Sort of the array "
   ]
  },
  {
   "cell_type": "code",
   "execution_count": 62,
   "id": "ddfe0d3b",
   "metadata": {},
   "outputs": [
    {
     "data": {
      "text/plain": [
       "array([ 0,  1,  2,  3,  4,  5,  6,  7,  8,  9, 10, 11, 12, 13, 14, 15, 16,\n",
       "       17, 18, 19, 20, 21, 22, 23, 24])"
      ]
     },
     "execution_count": 62,
     "metadata": {},
     "output_type": "execute_result"
    }
   ],
   "source": [
    "np.sort(arr)"
   ]
  },
  {
   "cell_type": "code",
   "execution_count": 63,
   "id": "d3e13508",
   "metadata": {},
   "outputs": [
    {
     "data": {
      "text/plain": [
       "array([ 0,  1,  2,  3,  4,  5,  6,  7,  8,  9, 10, 11, 12, 13, 14, 15, 16,\n",
       "       17, 18, 19, 20, 21, 22, 23, 24])"
      ]
     },
     "execution_count": 63,
     "metadata": {},
     "output_type": "execute_result"
    }
   ],
   "source": [
    "np.sort(arr,axis=0)"
   ]
  },
  {
   "cell_type": "markdown",
   "id": "780390ab",
   "metadata": {},
   "source": [
    "------------"
   ]
  },
  {
   "cell_type": "code",
   "execution_count": 64,
   "id": "a420cc4d",
   "metadata": {},
   "outputs": [],
   "source": [
    "# filter of array "
   ]
  },
  {
   "cell_type": "code",
   "execution_count": 67,
   "id": "91611a41",
   "metadata": {},
   "outputs": [
    {
     "data": {
      "text/plain": [
       "array([1, 2, 3, 4, 5])"
      ]
     },
     "execution_count": 67,
     "metadata": {},
     "output_type": "execute_result"
    }
   ],
   "source": [
    "arr = np.arange(1,6)\n",
    "arr"
   ]
  },
  {
   "cell_type": "code",
   "execution_count": 68,
   "id": "3fad8a68",
   "metadata": {},
   "outputs": [
    {
     "data": {
      "text/plain": [
       "array([False,  True, False,  True, False])"
      ]
     },
     "execution_count": 68,
     "metadata": {},
     "output_type": "execute_result"
    }
   ],
   "source": [
    "mask = arr%2 == 0\n",
    "mask"
   ]
  },
  {
   "cell_type": "code",
   "execution_count": 69,
   "id": "c0174fdb",
   "metadata": {},
   "outputs": [
    {
     "data": {
      "text/plain": [
       "array([2, 4])"
      ]
     },
     "execution_count": 69,
     "metadata": {},
     "output_type": "execute_result"
    }
   ],
   "source": [
    "arr[mask]"
   ]
  },
  {
   "cell_type": "code",
   "execution_count": 71,
   "id": "8317d52e",
   "metadata": {},
   "outputs": [
    {
     "data": {
      "text/plain": [
       "array(['1', '', '3', '', '5'], dtype='<U21')"
      ]
     },
     "execution_count": 71,
     "metadata": {},
     "output_type": "execute_result"
    }
   ],
   "source": [
    "np.where(arr%2==0,'',arr)"
   ]
  },
  {
   "cell_type": "markdown",
   "id": "57f48ccc",
   "metadata": {},
   "source": [
    "---------------"
   ]
  },
  {
   "cell_type": "code",
   "execution_count": 74,
   "id": "5a2b7db4",
   "metadata": {},
   "outputs": [
    {
     "data": {
      "text/plain": [
       "array([0, 0, 2, 2, 2, 2, 2, 0, 0])"
      ]
     },
     "execution_count": 74,
     "metadata": {},
     "output_type": "execute_result"
    }
   ],
   "source": [
    "# array operation \n",
    "arr = np.array([2,4,5,6,7,8,9,0,9])\n",
    "arr3 = np.array([2,4,3,4,5,6,7,0,9])\n",
    "arr - arr3"
   ]
  },
  {
   "cell_type": "code",
   "execution_count": 75,
   "id": "ea5b97ca",
   "metadata": {},
   "outputs": [
    {
     "data": {
      "text/plain": [
       "array([ 4,  8,  8, 10, 12, 14, 16,  0, 18])"
      ]
     },
     "execution_count": 75,
     "metadata": {},
     "output_type": "execute_result"
    }
   ],
   "source": [
    "arr + arr3"
   ]
  },
  {
   "cell_type": "code",
   "execution_count": 76,
   "id": "516034e6",
   "metadata": {},
   "outputs": [
    {
     "data": {
      "text/plain": [
       "array([ 4, 16, 15, 24, 35, 48, 63,  0, 81])"
      ]
     },
     "execution_count": 76,
     "metadata": {},
     "output_type": "execute_result"
    }
   ],
   "source": [
    "arr * arr3"
   ]
  },
  {
   "cell_type": "code",
   "execution_count": null,
   "id": "9ab54c76",
   "metadata": {},
   "outputs": [],
   "source": [
    "np."
   ]
  }
 ],
 "metadata": {
  "kernelspec": {
   "display_name": "Python 3 (ipykernel)",
   "language": "python",
   "name": "python3"
  },
  "language_info": {
   "codemirror_mode": {
    "name": "ipython",
    "version": 3
   },
   "file_extension": ".py",
   "mimetype": "text/x-python",
   "name": "python",
   "nbconvert_exporter": "python",
   "pygments_lexer": "ipython3",
   "version": "3.9.12"
  }
 },
 "nbformat": 4,
 "nbformat_minor": 5
}
